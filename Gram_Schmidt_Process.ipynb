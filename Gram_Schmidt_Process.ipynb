{
  "nbformat": 4,
  "nbformat_minor": 0,
  "metadata": {
    "colab": {
      "name": "Gram-Schmidt Process.ipynb",
      "provenance": [],
      "authorship_tag": "ABX9TyMZb+dG641wjWBowJsiUGEf",
      "include_colab_link": true
    },
    "kernelspec": {
      "name": "python3",
      "display_name": "Python 3"
    },
    "language_info": {
      "name": "python"
    }
  },
  "cells": [
    {
      "cell_type": "markdown",
      "metadata": {
        "id": "view-in-github",
        "colab_type": "text"
      },
      "source": [
        "<a href=\"https://colab.research.google.com/github/graceknav/Linear_Algebra_Coding_projects/blob/main/Gram_Schmidt_Process.ipynb\" target=\"_parent\"><img src=\"https://colab.research.google.com/assets/colab-badge.svg\" alt=\"Open In Colab\"/></a>"
      ]
    },
    {
      "cell_type": "code",
      "execution_count": 2,
      "metadata": {
        "id": "hjCjkgPLPcET"
      },
      "outputs": [],
      "source": [
        "import matplotlib.pyplot as plt \n",
        "from sympy import Poly\n",
        "import sympy as sym\n",
        "import numpy as np\n",
        "from numpy import c_ \n",
        "\n",
        "#We'll specify that x and t are variables:\n",
        "x, t = sym.symbols('x, t')\n",
        "\n"
      ]
    },
    {
      "cell_type": "code",
      "source": [
        "# write vectors:\n",
        "r1 = np.array([3, 6, 0])\n",
        "r1.dot(r1)"
      ],
      "metadata": {
        "colab": {
          "base_uri": "https://localhost:8080/"
        },
        "id": "JZHYVhheQMyL",
        "outputId": "38d9f6f1-d517-4c9b-d9a4-5a8d02a4aa19"
      },
      "execution_count": 13,
      "outputs": [
        {
          "output_type": "execute_result",
          "data": {
            "text/plain": [
              "45"
            ]
          },
          "metadata": {},
          "execution_count": 13
        }
      ]
    },
    {
      "cell_type": "code",
      "source": [
        "np.sqrt(45)"
      ],
      "metadata": {
        "colab": {
          "base_uri": "https://localhost:8080/"
        },
        "id": "HhJ5NYVKSWRt",
        "outputId": "0bfe27b0-3f3f-41a5-d3a0-9f6ef1707e84"
      },
      "execution_count": 16,
      "outputs": [
        {
          "output_type": "execute_result",
          "data": {
            "text/plain": [
              "6.708203932499369"
            ]
          },
          "metadata": {},
          "execution_count": 16
        }
      ]
    },
    {
      "cell_type": "code",
      "source": [
        "print(\"this is the square root of 45:\", np.sqrt(45))"
      ],
      "metadata": {
        "colab": {
          "base_uri": "https://localhost:8080/"
        },
        "id": "HMcdxz53SbNu",
        "outputId": "1d9f0b5a-f89a-4f60-d0d5-fdbdb3164b27"
      },
      "execution_count": 17,
      "outputs": [
        {
          "output_type": "stream",
          "name": "stdout",
          "text": [
            "this is the square root of 45: 6.708203932499369\n"
          ]
        }
      ]
    },
    {
      "cell_type": "code",
      "source": [
        "r2 = np.array([6, 2, 0])"
      ],
      "metadata": {
        "id": "7OqyzgYkSqTE"
      },
      "execution_count": 19,
      "outputs": []
    },
    {
      "cell_type": "code",
      "source": [
        "r3 = np.array([-4, 2, 0])"
      ],
      "metadata": {
        "id": "BNHFuEnoSxPY"
      },
      "execution_count": 20,
      "outputs": []
    },
    {
      "cell_type": "code",
      "source": [
        "r4 = np.array([3, -4, 3])"
      ],
      "metadata": {
        "id": "-U19lxc1S4cM"
      },
      "execution_count": 21,
      "outputs": []
    },
    {
      "cell_type": "code",
      "source": [
        "print(\"our first messy vector is\", r1)"
      ],
      "metadata": {
        "colab": {
          "base_uri": "https://localhost:8080/"
        },
        "id": "Pqez-v85S80d",
        "outputId": "b48662aa-4c41-4c48-8968-3d9cda1f3f11"
      },
      "execution_count": 24,
      "outputs": [
        {
          "output_type": "stream",
          "name": "stdout",
          "text": [
            "our first messy vector is [3 6 0]\n"
          ]
        }
      ]
    },
    {
      "cell_type": "code",
      "source": [
        "r1 = np.array([3, 6, 0])\n",
        "print(\"our first messy vector is\", r1)\n",
        "# Temporary vector T1\n",
        "T1 = r1\n",
        "print(\"our T1 vector is\", T1)\n",
        "# Find the magnitude of T1 \n",
        "n1 = np.sqrt(T1.dot(T1))\n",
        "print(\"the size of T1 =\", n1)\n",
        "#renormalize, and create u1:\n",
        "u1 = (1/n1) * T1\n",
        "print(\"u1 = \", u1)"
      ],
      "metadata": {
        "colab": {
          "base_uri": "https://localhost:8080/"
        },
        "id": "D0xIu6QKTB7T",
        "outputId": "7a045c87-db31-4b43-8f62-c4c22166531d"
      },
      "execution_count": 35,
      "outputs": [
        {
          "output_type": "stream",
          "name": "stdout",
          "text": [
            "our first messy vector is [3 6 0]\n",
            "our T1 vector is [3 6 0]\n",
            "the size of T1 = 6.708203932499369\n",
            "u1 =  [0.4472136  0.89442719 0.        ]\n"
          ]
        }
      ]
    },
    {
      "cell_type": "code",
      "source": [
        "# Gram-Schmidt process using the second vector [6, 2, 0]\n",
        "r2 = np.array([6, 2, 0])\n",
        "print(\"our 2nd messy vector is\", r2)\n",
        "# Temporary vector T2 \n",
        "T2 = r2 - (r2.dot(u1)) * u1\n",
        "# Find the magnitude of T2 \n",
        "n2 = np.sqrt(T2.dot(T2))\n",
        "print(\"the size of T2 is |T2|\", n2)\n",
        "# renormalize, and create u2: \n",
        "u2 = (1/n2) * T2\n",
        "print(\"u2 = \", u2)"
      ],
      "metadata": {
        "colab": {
          "base_uri": "https://localhost:8080/"
        },
        "id": "fzMV5Z-kUB5P",
        "outputId": "48fe975c-4261-4a2a-bcf4-1536c1a356ee"
      },
      "execution_count": 42,
      "outputs": [
        {
          "output_type": "stream",
          "name": "stdout",
          "text": [
            "our 2nd messy vector is [6 2 0]\n",
            "the size of T2 is |T2| 4.47213595499958\n",
            "u2 =  [ 0.89442719 -0.4472136   0.        ]\n"
          ]
        }
      ]
    },
    {
      "cell_type": "code",
      "source": [
        "# Gram-Schmidt process using the third vector [-4, 2, 0]\n",
        "r3 = np.array([-4, 2, 0])\n",
        "print(\"our 3nd messy vector is\", r3)\n",
        "# Temporary vector T3 \n",
        "T3 = r3 - (r3.dot(u1)) * u1 - (r3.dot(u2)) * u2\n",
        "# Find the magnitude of T3 \n",
        "n3 = np.sqrt(T3.dot(T3))\n",
        "print(\"the size of T3 is |T3|\", n3)\n",
        "# renormalize, and create u3: \n",
        "#u3 = (1/n3) * T3\n",
        "#print(\"u3 = \", u3)"
      ],
      "metadata": {
        "colab": {
          "base_uri": "https://localhost:8080/"
        },
        "id": "IfJIi7AVVYkp",
        "outputId": "cf341b08-51bc-4d87-fcb2-4157a566fa94"
      },
      "execution_count": 53,
      "outputs": [
        {
          "output_type": "stream",
          "name": "stdout",
          "text": [
            "our 3nd messy vector is [-4  2  0]\n",
            "the size of T3 is |T3| 9.930136612989092e-16\n"
          ]
        }
      ]
    },
    {
      "cell_type": "code",
      "source": [
        "# Gram-Schmidt process using the fourth vector [3, -4, 3]\n",
        "r2 = np.array([3, -4, 3])\n",
        "print(\"our 4nd messy vector is\", r4)\n",
        "# Temporary vector T4 \n",
        "T4 = r4 - (r4.dot(u1)) * u1 - (r4.dot(u2)) * u2 \n",
        "# Find the magnitude of T4 \n",
        "n4 = np.sqrt(T4.dot(T4))\n",
        "print(\"the size of T4 is |T4|\", n4)\n",
        "# renormalize, and create u2: \n",
        "u4 = (1/n4) * T4\n",
        "print(\"u4 = \", u4)"
      ],
      "metadata": {
        "colab": {
          "base_uri": "https://localhost:8080/"
        },
        "id": "5q2WSwaoWkl5",
        "outputId": "57a3fdfd-93aa-415b-c0b5-14f91781a1fb"
      },
      "execution_count": 54,
      "outputs": [
        {
          "output_type": "stream",
          "name": "stdout",
          "text": [
            "our 4nd messy vector is [ 3 -4  3]\n",
            "the size of T4 is |T4| 3.0\n",
            "u4 =  [1.48029737e-16 4.44089210e-16 1.00000000e+00]\n"
          ]
        }
      ]
    },
    {
      "cell_type": "code",
      "source": [
        ""
      ],
      "metadata": {
        "id": "PrHVfFfVXksl"
      },
      "execution_count": null,
      "outputs": []
    }
  ]
}