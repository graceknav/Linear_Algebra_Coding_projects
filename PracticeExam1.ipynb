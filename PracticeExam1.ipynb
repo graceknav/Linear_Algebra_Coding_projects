{
  "nbformat": 4,
  "nbformat_minor": 0,
  "metadata": {
    "colab": {
      "name": "PracticeExam1.ipynb",
      "provenance": [],
      "authorship_tag": "ABX9TyPMcfKyyxF0tdCfMDZQwARW",
      "include_colab_link": true
    },
    "kernelspec": {
      "name": "python3",
      "display_name": "Python 3"
    },
    "language_info": {
      "name": "python"
    }
  },
  "cells": [
    {
      "cell_type": "markdown",
      "metadata": {
        "id": "view-in-github",
        "colab_type": "text"
      },
      "source": [
        "<a href=\"https://colab.research.google.com/github/graceknav/Linear_Algebra_Coding_projects/blob/main/PracticeExam1.ipynb\" target=\"_parent\"><img src=\"https://colab.research.google.com/assets/colab-badge.svg\" alt=\"Open In Colab\"/></a>"
      ]
    },
    {
      "cell_type": "code",
      "execution_count": 1,
      "metadata": {
        "id": "IGbUoxW0qblz"
      },
      "outputs": [],
      "source": [
        "import numpy as np\n",
        "from numpy import c_\n",
        "\n",
        "ll = \"loaded\""
      ]
    },
    {
      "cell_type": "code",
      "source": [
        "M = np.matrix([[40/100, 50/100, 20/100, 0],\n",
        "               [30/100, 0, 40/100, 0],\n",
        "               [30/100, 0, 40/100, 0],\n",
        "               [0, 50/100, 0, 1]])"
      ],
      "metadata": {
        "id": "QrrsTBHXqgWe"
      },
      "execution_count": 9,
      "outputs": []
    },
    {
      "cell_type": "code",
      "source": [
        "x0 = np.matrix([[100], [200], [0], [0]])"
      ],
      "metadata": {
        "id": "gsO8HUPoq_ZO"
      },
      "execution_count": 10,
      "outputs": []
    },
    {
      "cell_type": "code",
      "source": [
        "(M**10)*x0"
      ],
      "metadata": {
        "colab": {
          "base_uri": "https://localhost:8080/"
        },
        "id": "GgcGHEWErPvi",
        "outputId": "25ea30da-d1db-4033-aac5-bdd8267c1cdb"
      },
      "execution_count": 11,
      "outputs": [
        {
          "output_type": "execute_result",
          "data": {
            "text/plain": [
              "matrix([[ 23.47657277],\n",
              "        [ 15.36902454],\n",
              "        [ 15.36902454],\n",
              "        [245.78537815]])"
            ]
          },
          "metadata": {},
          "execution_count": 11
        }
      ]
    },
    {
      "cell_type": "code",
      "source": [
        "(M**20)*x0"
      ],
      "metadata": {
        "colab": {
          "base_uri": "https://localhost:8080/"
        },
        "id": "FfWyjUuJrYGP",
        "outputId": "ffdebd87-b747-4c2c-f679-18bcb5463098"
      },
      "execution_count": 12,
      "outputs": [
        {
          "output_type": "execute_result",
          "data": {
            "text/plain": [
              "matrix([[  5.09109406],\n",
              "        [  3.33290341],\n",
              "        [  3.33290341],\n",
              "        [288.24309911]])"
            ]
          },
          "metadata": {},
          "execution_count": 12
        }
      ]
    },
    {
      "cell_type": "code",
      "source": [
        "(M**240)*x0"
      ],
      "metadata": {
        "colab": {
          "base_uri": "https://localhost:8080/"
        },
        "id": "s519xXD6sHhT",
        "outputId": "1eca4f6a-f92d-4836-ee77-211aef819b71"
      },
      "execution_count": 13,
      "outputs": [
        {
          "output_type": "execute_result",
          "data": {
            "text/plain": [
              "matrix([[1.26675449e-14],\n",
              "        [8.29285479e-15],\n",
              "        [8.29285479e-15],\n",
              "        [3.00000000e+02]])"
            ]
          },
          "metadata": {},
          "execution_count": 13
        }
      ]
    },
    {
      "cell_type": "code",
      "source": [
        "(M**5)*x0"
      ],
      "metadata": {
        "colab": {
          "base_uri": "https://localhost:8080/"
        },
        "id": "cvY5kn61sQ8Q",
        "outputId": "9348038c-920c-4c8f-af36-fa90bdf0387e"
      },
      "execution_count": 14,
      "outputs": [
        {
          "output_type": "execute_result",
          "data": {
            "text/plain": [
              "matrix([[ 50.414],\n",
              "        [ 33.003],\n",
              "        [ 33.003],\n",
              "        [183.58 ]])"
            ]
          },
          "metadata": {},
          "execution_count": 14
        }
      ]
    },
    {
      "cell_type": "code",
      "source": [
        "(M**1)*x0"
      ],
      "metadata": {
        "colab": {
          "base_uri": "https://localhost:8080/"
        },
        "id": "Q8YATBEGs2m8",
        "outputId": "eb9a2cbf-cdd3-4ad8-c56a-be6a091c0907"
      },
      "execution_count": 19,
      "outputs": [
        {
          "output_type": "execute_result",
          "data": {
            "text/plain": [
              "matrix([[140.],\n",
              "        [ 30.],\n",
              "        [ 30.],\n",
              "        [100.]])"
            ]
          },
          "metadata": {},
          "execution_count": 19
        }
      ]
    },
    {
      "cell_type": "code",
      "source": [
        ""
      ],
      "metadata": {
        "id": "0R8uwTW2s5lt"
      },
      "execution_count": null,
      "outputs": []
    }
  ]
}